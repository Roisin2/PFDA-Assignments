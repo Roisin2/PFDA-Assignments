{
 "cells": [
  {
   "cell_type": "markdown",
   "metadata": {},
   "source": [
    "#### Assignment_6_Weather\n",
    "#### Author: Roisin Stanley\n",
    "#### Data from: https://cli.fusio.net/cli/climate_data/webdata/hly4935.csv\n",
    " "
   ]
  },
  {
   "cell_type": "markdown",
   "metadata": {},
   "source": [
    "##### Plots of\n",
    "\n",
    "The temperature\n",
    "\n",
    "The mean temperature each day\n",
    "\n",
    "The mean temperature for each month\n",
    "\n",
    "and\n",
    "\n",
    "The Windspeed (there is data missing from this column)\n",
    "\n",
    "The rolling windspeed (say over 24 hours)\n",
    "\n",
    "The max windspeed for each day\n",
    "\n",
    "The monthly mean of the daily max windspeeds"
   ]
  },
  {
   "cell_type": "code",
   "execution_count": 16,
   "metadata": {},
   "outputs": [],
   "source": [
    "import pandas as pd\n",
    "import numpy as np\n",
    "import matplotlib.pyplot as plt\n",
    "\n",
    "url ='https://cli.fusio.net/cli/climate_data/webdata/hly4935.csv'\n",
    "\n"
   ]
  },
  {
   "cell_type": "markdown",
   "metadata": {},
   "source": [
    "Struggled with this initially but used (https://datascientyst.com/drop-bad-lines-with-read_csv-pandas/)"
   ]
  },
  {
   "cell_type": "code",
   "execution_count": 17,
   "metadata": {},
   "outputs": [
    {
     "name": "stdout",
     "output_type": "stream",
     "text": [
      "Error loading data: read_csv() got an unexpected keyword argument 'error_bad_lines'\n"
     ]
    }
   ],
   "source": [
    "url = 'https://cli.fusio.net/cli/climate_data/webdata/hly4935.csv'\n",
    "\n",
    "try:\n",
    "    data = pd.read_csv(url, error_bad_lines=False)\n",
    "    print(\"Data loaded successfully!\")\n",
    "    display(data.head())  \n",
    "except Exception as e:\n",
    "    print(f\"Error loading data: {e}\")"
   ]
  },
  {
   "cell_type": "code",
   "execution_count": 18,
   "metadata": {},
   "outputs": [
    {
     "name": "stdout",
     "output_type": "stream",
     "text": [
      "Error loading data: Error tokenizing data. C error: Expected 1 fields in line 3, saw 2\n",
      "\n"
     ]
    }
   ],
   "source": [
    "url = 'https://cli.fusio.net/cli/climate_data/webdata/hly4935.csv'\n",
    "\n",
    "try:\n",
    "    data = pd.read_csv(url, delimiter=',')\n",
    "    print(\"Data loaded successfully!\")\n",
    "    display(data.head())  \n",
    "except Exception as e:\n",
    "    print(f\"Error loading data: {e}\")"
   ]
  },
  {
   "cell_type": "code",
   "execution_count": 19,
   "metadata": {},
   "outputs": [
    {
     "name": "stdout",
     "output_type": "stream",
     "text": [
      "Station Name: KNOCK AIRPORT\n",
      "Station Height: 201 M \n",
      "Latitude:53.906  ,Longitude: -8.817\n",
      "\n",
      "\n",
      "date:  -  Date and Time (utc)\n",
      "rain:  -  Precipitation Amount (mm)\t  \n",
      "temp:  -  Air Temperature (C)\t\n",
      "wetb:  -  Wet Bulb Temperature (C)\n",
      "dewpt: -  Dew Point Temperature (C)             \n"
     ]
    }
   ],
   "source": [
    "import requests\n",
    "\n",
    "response = requests.get(url)\n",
    "lines = response.text.split('\\n')\n",
    "\n",
    "# Print the first few lines to inspect\n",
    "for line in lines[:10]:\n",
    "    print(line)"
   ]
  },
  {
   "cell_type": "code",
   "execution_count": 20,
   "metadata": {},
   "outputs": [
    {
     "name": "stdout",
     "output_type": "stream",
     "text": [
      "Data loaded successfully!\n"
     ]
    },
    {
     "data": {
      "text/html": [
       "<div>\n",
       "<style scoped>\n",
       "    .dataframe tbody tr th:only-of-type {\n",
       "        vertical-align: middle;\n",
       "    }\n",
       "\n",
       "    .dataframe tbody tr th {\n",
       "        vertical-align: top;\n",
       "    }\n",
       "\n",
       "    .dataframe thead th {\n",
       "        text-align: right;\n",
       "    }\n",
       "</style>\n",
       "<table border=\"1\" class=\"dataframe\">\n",
       "  <thead>\n",
       "    <tr style=\"text-align: right;\">\n",
       "      <th></th>\n",
       "      <th>temp:  -  Air Temperature (C)\\t</th>\n",
       "    </tr>\n",
       "  </thead>\n",
       "  <tbody>\n",
       "    <tr>\n",
       "      <th>0</th>\n",
       "      <td>wetb:  -  Wet Bulb Temperature (C)</td>\n",
       "    </tr>\n",
       "    <tr>\n",
       "      <th>1</th>\n",
       "      <td>dewpt: -  Dew Point Temperature (C)</td>\n",
       "    </tr>\n",
       "    <tr>\n",
       "      <th>2</th>\n",
       "      <td>rhum:  -  Relative Humidity (%)</td>\n",
       "    </tr>\n",
       "    <tr>\n",
       "      <th>3</th>\n",
       "      <td>vappr: -  Vapour Pressure (hPa)\\t</td>\n",
       "    </tr>\n",
       "    <tr>\n",
       "      <th>4</th>\n",
       "      <td>msl:   -  Mean Sea Level Pressure (hPa)</td>\n",
       "    </tr>\n",
       "  </tbody>\n",
       "</table>\n",
       "</div>"
      ],
      "text/plain": [
       "                    temp:  -  Air Temperature (C)\\t\n",
       "0                wetb:  -  Wet Bulb Temperature (C)\n",
       "1  dewpt: -  Dew Point Temperature (C)             \n",
       "2                   rhum:  -  Relative Humidity (%)\n",
       "3                vappr: -  Vapour Pressure (hPa)\\t \n",
       "4           msl:   -  Mean Sea Level Pressure (hPa)"
      ]
     },
     "metadata": {},
     "output_type": "display_data"
    }
   ],
   "source": [
    "url = 'https://cli.fusio.net/cli/climate_data/webdata/hly4935.csv'\n",
    "\n",
    "# Read the CSV file, skipping the first 7 lines and handling bad lines\n",
    "try:\n",
    "    data = pd.read_csv(url, skiprows=7, on_bad_lines='skip', delimiter=',')\n",
    "    print(\"Data loaded successfully!\")\n",
    "    display(data.head())\n",
    "except Exception as e:\n",
    "    print(f\"Error loading data: {e}\")"
   ]
  }
 ],
 "metadata": {
  "kernelspec": {
   "display_name": "base",
   "language": "python",
   "name": "python3"
  },
  "language_info": {
   "codemirror_mode": {
    "name": "ipython",
    "version": 3
   },
   "file_extension": ".py",
   "mimetype": "text/x-python",
   "name": "python",
   "nbconvert_exporter": "python",
   "pygments_lexer": "ipython3",
   "version": "3.11.5"
  }
 },
 "nbformat": 4,
 "nbformat_minor": 2
}
